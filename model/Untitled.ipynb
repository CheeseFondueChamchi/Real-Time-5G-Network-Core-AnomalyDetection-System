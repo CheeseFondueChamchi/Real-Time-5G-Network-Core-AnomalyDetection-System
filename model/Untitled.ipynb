{
 "cells": [
  {
   "cell_type": "code",
   "execution_count": 1,
   "id": "f6179b3f-b291-4dad-8b9a-af1f506393b5",
   "metadata": {},
   "outputs": [],
   "source": [
    "import numpy as np "
   ]
  },
  {
   "cell_type": "code",
   "execution_count": 5,
   "id": "49e58a65-6314-4cff-a2c2-38222938a593",
   "metadata": {},
   "outputs": [
    {
     "name": "stdout",
     "output_type": "stream",
     "text": [
      "[[1, 2, 22, 2, 4, 1], [2, 2, 22, 1, 2, 9]]\n",
      "[ 1.5  2.  22.   1.5  3.   5. ]\n",
      "[ 0.25  0.    0.    0.25  1.   16.  ]\n"
     ]
    }
   ],
   "source": [
    "a = [1,2,22,2,4,1]\n",
    "b = [2,2,22,1,2,9]\n",
    "c = [a, b]\n",
    "print(c)\n",
    "print( np.mean(c,axis =0))\n",
    "print( np.var(c,axis =0))"
   ]
  },
  {
   "cell_type": "code",
   "execution_count": null,
   "id": "8bb96134-8f6e-4fd4-a168-b64624b058e6",
   "metadata": {},
   "outputs": [],
   "source": []
  }
 ],
 "metadata": {
  "kernelspec": {
   "display_name": "Python 3 (ipykernel)",
   "language": "python",
   "name": "python3"
  },
  "language_info": {
   "codemirror_mode": {
    "name": "ipython",
    "version": 3
   },
   "file_extension": ".py",
   "mimetype": "text/x-python",
   "name": "python",
   "nbconvert_exporter": "python",
   "pygments_lexer": "ipython3",
   "version": "3.9.15"
  }
 },
 "nbformat": 4,
 "nbformat_minor": 5
}
