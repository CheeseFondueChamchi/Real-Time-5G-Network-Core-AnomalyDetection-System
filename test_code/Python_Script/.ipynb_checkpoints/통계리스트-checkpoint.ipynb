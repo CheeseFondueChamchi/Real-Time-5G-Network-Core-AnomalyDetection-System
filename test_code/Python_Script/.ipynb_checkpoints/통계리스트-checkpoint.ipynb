{
 "cells": [
  {
   "cell_type": "code",
   "execution_count": 1,
   "id": "277ac4c5-74a3-4423-a8a5-cb32841fd5a0",
   "metadata": {
    "scrolled": true
   },
   "outputs": [
    {
     "name": "stdout",
     "output_type": "stream",
     "text": [
      "file_path : D:/table_df/NF_description/BS_UPF01_5M\\CALL_SESS.csv\n",
      "file_path : D:/table_df/NF_description/BS_UPF01_5M\\DPLD_DPLD.csv\n",
      "file_path : D:/table_df/NF_description/BS_UPF01_5M\\PFCP_PFMC.csv\n",
      "file_path : D:/table_df/NF_description/BS_UPF01_5M\\PPORT_PKT.csv\n",
      "file_path : D:/table_df/NF_description/BS_UPF01_5M\\PUD_PKT.csv\n",
      "DB 이름                : BS_UPF01_5M\n",
      "DB 통계지표 개수       : 0\n",
      "DB 학습 통계지표 개수  : 0\n",
      "DB 비학습 통계지표 개수: 0\n",
      "Null 테이블 개수       : 5\n"
     ]
    },
    {
     "ename": "ZeroDivisionError",
     "evalue": "division by zero",
     "output_type": "error",
     "traceback": [
      "\u001b[1;31m---------------------------------------------------------------------------\u001b[0m",
      "\u001b[1;31mZeroDivisionError\u001b[0m                         Traceback (most recent call last)",
      "Cell \u001b[1;32mIn[1], line 129\u001b[0m\n\u001b[0;32m    127\u001b[0m \u001b[38;5;28mprint\u001b[39m(\u001b[38;5;124m\"\u001b[39m\u001b[38;5;124mDB 비학습 통계지표 개수:\u001b[39m\u001b[38;5;124m\"\u001b[39m, db_num)\n\u001b[0;32m    128\u001b[0m \u001b[38;5;28mprint\u001b[39m(\u001b[38;5;124m\"\u001b[39m\u001b[38;5;124mNull 테이블 개수       :\u001b[39m\u001b[38;5;124m\"\u001b[39m, bin_file)\n\u001b[1;32m--> 129\u001b[0m \u001b[38;5;28mprint\u001b[39m(\u001b[38;5;124m\"\u001b[39m\u001b[38;5;124mDB 비학습률            :\u001b[39m\u001b[38;5;124m\"\u001b[39m, \u001b[43mdb_num\u001b[49m\u001b[38;5;241;43m/\u001b[39;49m\u001b[43mdb_index_num\u001b[49m \u001b[38;5;241m*\u001b[39m\u001b[38;5;241m100\u001b[39m)\n\u001b[0;32m    130\u001b[0m \u001b[38;5;28mprint\u001b[39m(\u001b[38;5;124m\"\u001b[39m\u001b[38;5;124m-------------------------------------------\u001b[39m\u001b[38;5;124m\"\u001b[39m)\n\u001b[0;32m    131\u001b[0m \u001b[38;5;66;03m# break\u001b[39;00m\n",
      "\u001b[1;31mZeroDivisionError\u001b[0m: division by zero"
     ]
    }
   ],
   "source": [
    "import os\n",
    "import pandas as pd\n",
    "import numpy as np\n",
    "# def get_file_names(directory):\n",
    "#     file_names = []\n",
    "#     folder_names = []\n",
    "    \n",
    "#     # 디렉토리의 하위 파일을 탐색합니다.\n",
    "#     for file in os.listdir(directory):\n",
    "#         file_path = os.path.join(directory, file)\n",
    "        \n",
    "#         # 파일인 경우에만 리스트에 추가합니다.\n",
    "#         if os.path.isfile(file_path):\n",
    "#             file_names.append(file)\n",
    "#         if not os.path.isfile(file_path):\n",
    "#             folder_names.append(file)\n",
    "    \n",
    "#     return file_names, folder_names\n",
    "\n",
    "def get_file_names(directory):\n",
    "    file_names = []\n",
    "    \n",
    "    # 디렉토리의 하위 파일 및 디렉토리를 탐색합니다.\n",
    "    for root, dirs, files in os.walk(directory):\n",
    "        for file in files:\n",
    "            file_path = os.path.join(root, file)\n",
    "            \n",
    "            # 파일인 경우에만 리스트에 추가합니다.\n",
    "            if os.path.isfile(file_path):\n",
    "                file_names.append(file)\n",
    "\n",
    "    \n",
    "    return file_names\n",
    "def reverse_bool(value):\n",
    "    return not value\n",
    "# 디렉토리 경로\n",
    "db_list = ['BS_UPF01_5M', 'GR_UPF06_5M','BS_AMF21_5M', 'BS_AMF22_5M', 'BS_SMF02_5M', 'BS_SMF03_5M',  'DG_UPF01_5M',\n",
    "           'DJ_AMF21_5M', 'DJ_AMF22_5M', 'DJ_SMF01_5M', 'DJ_SMF03_5M', 'DJ_UPF01_5M', 'DJ_UPF03_5M', 'GJ_UPF01_5M',\n",
    "           'GR_AMF21_5M', 'GR_AMF22_5M', 'GR_SMF01_5M', 'GR_SMF04_5M', 'GR_UPF01_5M', 'GR_UPF03_5M', 'GR_UPF05_5M',\n",
    "           'BS_UPF03_5M', 'HH_AMF21_5M', 'HH_AMF22_5M', 'HH_SMF01_5M', 'HH_SMF04_5M', 'HH_UPF01_5M', 'HH_UPF03_5M',\n",
    "           'HH_UPF04_5M', 'HH_UPF05_5M', 'HH_UPF06_5M']\n",
    "\n",
    "directory = ['D:/table_df/NF_description/']\n",
    "bin_file = 0\n",
    "bin_list = []\n",
    "entire = 0\n",
    "entire_index =0\n",
    "trainable_checker = pd.DataFrame()\n",
    "for db in db_list[:]:\n",
    "    db_index_num = 0\n",
    "    db_num = 0\n",
    "    # print(db)\n",
    "    # directory_path_list = [os.path.join(directory[0], db) for i in db_list] #[list1[i] + list2[i] for i in range(len(list1))]\n",
    "    directory_path=os.path.join(directory[0], db)\n",
    "\n",
    "    # 파일명 리스트 가져오기\n",
    "    file_list = get_file_names(directory_path)\n",
    "    num = 0\n",
    "    index_num = 0\n",
    "\n",
    "    # 파일별로 처리\n",
    "    for file_name in file_list:\n",
    "        file_path = os.path.join(directory_path, file_name)\n",
    "        print(\"file_path :\",file_path)\n",
    "        try:\n",
    "            tmp_df = pd.read_csv(file_path) #DB_name\ttable_name\tport\tcol_name\tcol_min\tcol_max\tcol_avg\tcol_var\tshape\n",
    "\n",
    "        except Exception as e:\n",
    "            # print(\"bin file is here\",e )\n",
    "            bin_file += 1\n",
    "            bin_list.append(file_path)\n",
    "            continue\n",
    "            \n",
    "        try:\n",
    "            index_num = tmp_df.index[-1] + 1\n",
    "            \n",
    "        except IndexError :\n",
    "            # print(\"Index Error is happend\")\n",
    "            bin_file += 1\n",
    "            bin_list.append(file_path)\n",
    "            continue\n",
    "        \n",
    "        # 'shape' 열의 값 파싱하여 비교\n",
    "        shape_val = tmp_df['shape'].str.replace('(', '').str.replace(',', '').str.replace(')', '').astype(int)\n",
    "        # print(shape_val < 1000)\n",
    "        # num += shape_val[shape_val < 1000].shape[0]\n",
    "    \n",
    "        # 'col_var' 열의 값 파싱하여 비교\n",
    "        col_var_val = tmp_df['col_var'].astype(float)#**(1/2)\n",
    "        col_avg_val = tmp_df['col_avg'].astype(float)\n",
    "        # print([(shape_val < 1000) | (col_var_val < 0.1)])\n",
    "        tmp_df['AT_model'] =   ~((shape_val < 1000) | (( col_var_val<0.1) & (col_avg_val < 0.1)))\n",
    "        num = np.sum((shape_val < 1000) | (( col_var_val<0.1) & (col_avg_val < 0.1)))\n",
    "        # print(\"values shape\", shape_val)#check\n",
    "        # print(\"values var\", col_var_val)#check\n",
    "        # print(\"values avg\", col_avg_val)#check\n",
    "        # print(\"values div:\",col_var_val/ col_avg_val)#check\n",
    "        # print(np.sum((shape_val < 1000)))#check\n",
    "        # print(np.sum(( col_var_val/ col_avg_val < 0.1)))#check\n",
    "        # print( tmp_df.head()) #check\n",
    "        trainable_checker = pd.concat([trainable_checker,tmp_df],axis=0)\n",
    "        \n",
    "        \n",
    "        \n",
    "        # 결과 출력 포트 합산\n",
    "        if file_name in [\"PAG_SM1.csv\",\"PAG_SM2.csv\",\"REG_IPLMN.csv\"]:\n",
    "            index_num =110\n",
    "            num = 0\n",
    "        \n",
    "        # print(\"총 통계지표 개수:\", index_num)\n",
    "        # print(\"비학습 통계지표 개수:\", num)\n",
    "        # print(\"비학습 률:\", num/index_num *100)\n",
    "\n",
    "        db_index_num += index_num+0.000001\n",
    "        db_num += num\n",
    "        \n",
    "        entire_index += index_num\n",
    "        entire += num\n",
    "    ###########\n",
    "    ## \n",
    "    if db in 'HH_UPF04_5M':\n",
    "        db_index_num += 0.0000001\n",
    "\n",
    "    print(\"DB 이름                :\",db)\n",
    "    print(\"DB 통계지표 개수       :\", db_index_num)\n",
    "    print(\"DB 학습 통계지표 개수  :\", db_index_num-db_num)\n",
    "    print(\"DB 비학습 통계지표 개수:\", db_num)\n",
    "    print(\"Null 테이블 개수       :\", bin_file)\n",
    "    print(\"DB 비학습률            :\", db_num/db_index_num *100)\n",
    "    print(\"-------------------------------------------\")\n",
    "    # break\n",
    "print(\"-------------------------------------------\")    \n",
    "\n",
    "print(\"DB 전체 총 통계지표 개수    :\", entire_index)\n",
    "print(\"DB 전체 학습 통계지표 개수    :\", entire_index-entire)\n",
    "print(\"DB 전체 비학습 통계지표 개수:\", entire)\n",
    "print(\"DB 전체 비학습 률           :\", entire/entire_index *100)\n",
    "trainable_checker.to_csv(os.path.join(directory[0], \"trainable_checker.csv\") )\n",
    "        \n"
   ]
  },
  {
   "cell_type": "code",
   "execution_count": null,
   "id": "3c82575d-4cab-4f32-86b5-3cea73e621a9",
   "metadata": {},
   "outputs": [],
   "source": []
  },
  {
   "cell_type": "raw",
   "id": "d147b117-0a21-4ad2-a5e6-f8310dc51712",
   "metadata": {},
   "source": [
    "np.sum((shape_val < 500) | (col_var_val /col_avg_val< 0.1))\n",
    "D:/table_df/NF_description/HH_UPF06_5M\n",
    "DB 전체 총 통계지표 개수: 2693025800\n",
    "DB 전체 비학습 통계지표 개수: 722944397\n",
    "DB 전체 비학습 률: 26.84506019214521"
   ]
  },
  {
   "cell_type": "raw",
   "id": "4f3707e6-7049-4e91-b20a-a4405bf56686",
   "metadata": {},
   "source": [
    "np.sum((shape_val < 1000) | (col_var_val /col_avg_val< 0.01))\n",
    "D:/table_df/NF_description/HH_UPF06_5M\n",
    "DB 전체 총 통계지표 개수: 2693025800\n",
    "DB 전체 비학습 통계지표 개수: 827775144\n",
    "DB 전체 비학습 률: 30.737735375576424"
   ]
  },
  {
   "cell_type": "raw",
   "id": "10bc8e46-570b-4f21-a2e9-f552231cd920",
   "metadata": {},
   "source": [
    "np.sum((shape_val < 500) | (col_var_val /col_avg_val< 0.1))\n",
    "D:/table_df/NF_description/HH_UPF06_5M\n",
    "DB 전체 총 통계지표 개수: 2693025800\n",
    "DB 전체 비학습 통계지표 개수: 722944397\n",
    "DB 전체 비학습 률: 26.84506019214521"
   ]
  },
  {
   "cell_type": "raw",
   "id": "059255f9-669a-440e-a7d2-1e0633111587",
   "metadata": {},
   "source": [
    "num += np.sum((shape_val < 2000) | (col_var_val /col_avg_val< 0.1))\n",
    "DB 전체 총 통계지표 개수: 2693025800\n",
    "DB 전체 비학습 통계지표 개수: 965639708\n",
    "DB 전체 비학습 률: 35.857053727446655"
   ]
  },
  {
   "cell_type": "raw",
   "id": "cf85fb72-65bf-4501-aa4a-7709c65a12a9",
   "metadata": {},
   "source": [
    "\n",
    "num += np.sum((shape_val < 1000) | (col_var_val /col_avg_val< 0.1))\n",
    "D:/table_df/NF_description/HH_UPF06_5M\n",
    "DB 전체 총 통계지표 개수: 2693025800\n",
    "DB 전체 비학습 통계지표 개수: 857836061\n",
    "DB 전체 비학습 률: 31.853985988548644\n"
   ]
  },
  {
   "cell_type": "raw",
   "id": "a272aade-594e-480c-8711-f443581ae8a0",
   "metadata": {},
   "source": [
    "num += np.sum((shape_val < 1000) | (col_var_val /col_avg_val< 0.2))\n",
    "D:/table_df/NF_description/HH_UPF06_5M\n",
    "DB 전체 총 통계지표 개수: 2693025800\n",
    "DB 전체 비학습 통계지표 개수: 867666006\n",
    "DB 전체 비학습 률: 32.219000872550126"
   ]
  },
  {
   "cell_type": "code",
   "execution_count": 3,
   "id": "3c3e4277-5bdf-482e-a728-af5ccba7def0",
   "metadata": {},
   "outputs": [
    {
     "ename": "NameError",
     "evalue": "name 'jk' is not defined",
     "output_type": "error",
     "traceback": [
      "\u001b[1;31m---------------------------------------------------------------------------\u001b[0m",
      "\u001b[1;31mNameError\u001b[0m                                 Traceback (most recent call last)",
      "Cell \u001b[1;32mIn[3], line 1\u001b[0m\n\u001b[1;32m----> 1\u001b[0m \u001b[43mjk\u001b[49m\n",
      "\u001b[1;31mNameError\u001b[0m: name 'jk' is not defined"
     ]
    }
   ],
   "source": [
    "jk"
   ]
  },
  {
   "cell_type": "code",
   "execution_count": null,
   "id": "39dfd8f8-fea7-4cf3-bd3a-30bb0ec0ff09",
   "metadata": {},
   "outputs": [],
   "source": []
  }
 ],
 "metadata": {
  "kernelspec": {
   "display_name": "Python 3 (ipykernel)",
   "language": "python",
   "name": "python3"
  },
  "language_info": {
   "codemirror_mode": {
    "name": "ipython",
    "version": 3
   },
   "file_extension": ".py",
   "mimetype": "text/x-python",
   "name": "python",
   "nbconvert_exporter": "python",
   "pygments_lexer": "ipython3",
   "version": "3.12.2"
  }
 },
 "nbformat": 4,
 "nbformat_minor": 5
}
