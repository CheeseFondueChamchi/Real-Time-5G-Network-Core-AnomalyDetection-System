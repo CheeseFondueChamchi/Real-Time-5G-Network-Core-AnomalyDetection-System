{
 "cells": [
  {
   "cell_type": "code",
   "execution_count": 1,
   "id": "8dfa1005-5005-47a8-b7ed-5c72fac254f9",
   "metadata": {},
   "outputs": [],
   "source": [
    "import fitz\n"
   ]
  },
  {
   "cell_type": "code",
   "execution_count": 21,
   "id": "c78a957b-9477-40b4-b661-ab738fc400db",
   "metadata": {},
   "outputs": [],
   "source": [
    "PDF_FILE_PATH = \"D:/2023 과제/무선망예지보전/5GCore_data/NF_description_pdf/vUPF 출력문 설명서 SVR23A 5GC_Ver.1.0_KT_KO.pdf\""
   ]
  },
  {
   "cell_type": "code",
   "execution_count": 22,
   "id": "499f7c04-1ff8-454b-bd7e-7b38679597ee",
   "metadata": {},
   "outputs": [
    {
     "name": "stdout",
     "output_type": "stream",
     "text": [
      "Text saved to output.txt\n"
     ]
    }
   ],
   "source": [
    "doc = fitz.open(PDF_FILE_PATH)\n",
    "text = \"\"\n",
    "\n",
    "for page in doc:\n",
    "    text += page.get_text()\n",
    "\n",
    "with open(\"vUPF 출력문 설명서.txt\", \"w\", encoding=\"utf-8\") as file:\n",
    "    file.write(text)\n",
    "\n",
    "print(\"Text saved to output.txt\")\n"
   ]
  },
  {
   "cell_type": "code",
   "execution_count": 7,
   "id": "855b694a-8ec8-45b1-aa32-51552ef575b2",
   "metadata": {},
   "outputs": [
    {
     "data": {
      "text/plain": [
       "Document('D:/2023 과제/무선망예지보전/5GCore_data/NF_description_pdf/vSMF 입력문 설명서 SVR23A 5GC_Ver.1.0_KT_KO.pdf')"
      ]
     },
     "execution_count": 7,
     "metadata": {},
     "output_type": "execute_result"
    }
   ],
   "source": []
  },
  {
   "cell_type": "code",
   "execution_count": null,
   "id": "16fcd8ae-681c-46ed-9b34-d1faae451e41",
   "metadata": {},
   "outputs": [],
   "source": []
  }
 ],
 "metadata": {
  "kernelspec": {
   "display_name": "Python 3 (ipykernel)",
   "language": "python",
   "name": "python3"
  },
  "language_info": {
   "codemirror_mode": {
    "name": "ipython",
    "version": 3
   },
   "file_extension": ".py",
   "mimetype": "text/x-python",
   "name": "python",
   "nbconvert_exporter": "python",
   "pygments_lexer": "ipython3",
   "version": "3.9.15"
  }
 },
 "nbformat": 4,
 "nbformat_minor": 5
}
